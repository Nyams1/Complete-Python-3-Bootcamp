{
  "nbformat": 4,
  "nbformat_minor": 0,
  "metadata": {
    "colab": {
      "provenance": [],
      "toc_visible": true,
      "authorship_tag": "ABX9TyOFWb9XTV98l/QaV1ot91ZT",
      "include_colab_link": true
    },
    "kernelspec": {
      "name": "python3",
      "display_name": "Python 3"
    },
    "language_info": {
      "name": "python"
    }
  },
  "cells": [
    {
      "cell_type": "markdown",
      "metadata": {
        "id": "view-in-github",
        "colab_type": "text"
      },
      "source": [
        "<a href=\"https://colab.research.google.com/github/Nyams1/Complete-Python-3-Bootcamp/blob/master/Draft_training_NN_.ipynb\" target=\"_parent\"><img src=\"https://colab.research.google.com/assets/colab-badge.svg\" alt=\"Open In Colab\"/></a>"
      ]
    },
    {
      "cell_type": "code",
      "source": [
        "if True:\n",
        "  print('ITS TRUE!')"
      ],
      "metadata": {
        "colab": {
          "base_uri": "https://localhost:8080/"
        },
        "id": "jg_HiccaMRPm",
        "outputId": "788ada32-3366-4df2-ace6-71b7a0997d33"
      },
      "execution_count": 5,
      "outputs": [
        {
          "output_type": "stream",
          "name": "stdout",
          "text": [
            "ITS TRUE!\n"
          ]
        }
      ]
    },
    {
      "cell_type": "code",
      "source": [
        "if 3>2:\n",
        "  print('ITS TRUE!')"
      ],
      "metadata": {
        "colab": {
          "base_uri": "https://localhost:8080/"
        },
        "id": "B7uGPVIqNRPn",
        "outputId": "c2e48d5b-4743-4393-b25c-653e9417e423"
      },
      "execution_count": 6,
      "outputs": [
        {
          "output_type": "stream",
          "name": "stdout",
          "text": [
            "ITS TRUE!\n"
          ]
        }
      ]
    },
    {
      "cell_type": "code",
      "source": [
        "Hungry = False\n",
        "if Hungry:\n",
        "  print('Feed me')"
      ],
      "metadata": {
        "id": "H3xXTuL-OOjX"
      },
      "execution_count": 9,
      "outputs": []
    },
    {
      "cell_type": "code",
      "source": [
        "Hungry = True\n",
        "if Hungry:\n",
        "  print('Feed me!')"
      ],
      "metadata": {
        "colab": {
          "base_uri": "https://localhost:8080/"
        },
        "id": "_5_4EsqjPWWe",
        "outputId": "7cc9de38-c4e9-4d55-8489-6dbe5d2b3424"
      },
      "execution_count": 11,
      "outputs": [
        {
          "output_type": "stream",
          "name": "stdout",
          "text": [
            "Feed me!\n"
          ]
        }
      ]
    },
    {
      "cell_type": "code",
      "source": [
        "hungry = False\n",
        "if hungry:\n",
        "  print('Feed me!')\n",
        "else:\n",
        "   print(\"I am not hungry\")"
      ],
      "metadata": {
        "colab": {
          "base_uri": "https://localhost:8080/"
        },
        "id": "saZ9QmeHRe02",
        "outputId": "7ee0040c-ac53-4fbd-825a-ac9a8b262193"
      },
      "execution_count": 15,
      "outputs": [
        {
          "output_type": "stream",
          "name": "stdout",
          "text": [
            "I am not hungry\n"
          ]
        }
      ]
    },
    {
      "cell_type": "code",
      "source": [
        "loc = \"bank\"\n",
        "if loc == 'Auto shop':\n",
        "  print('Cars are cool!')\n",
        "else:\n",
        "  print('I do not know much.')\n"
      ],
      "metadata": {
        "colab": {
          "base_uri": "https://localhost:8080/"
        },
        "id": "HusX3svWVQu4",
        "outputId": "d136b64a-8e84-4d45-810b-0013491161f8"
      },
      "execution_count": 17,
      "outputs": [
        {
          "output_type": "stream",
          "name": "stdout",
          "text": [
            "I do not know much.\n"
          ]
        }
      ]
    },
    {
      "cell_type": "code",
      "source": [
        "loc = \"bank\"\n",
        "if loc == 'Auto shop':\n",
        "  print('Cars are cool!')\n",
        "elif loc == 'bank':\n",
        "  print('Money is cool')\n",
        "elif loc == 'store':\n",
        "  print('welcome to the store')\n",
        "else:\n",
        "  print('I do not know much.')\n"
      ],
      "metadata": {
        "colab": {
          "base_uri": "https://localhost:8080/"
        },
        "outputId": "937a10f6-d6e6-44e8-f97c-893d2318fe5b",
        "id": "R5NKnjGPW16U"
      },
      "execution_count": 19,
      "outputs": [
        {
          "output_type": "stream",
          "name": "stdout",
          "text": [
            "Money is cool\n"
          ]
        }
      ]
    },
    {
      "cell_type": "code",
      "source": [
        "loc = \"Auto shop\"\n",
        "if loc == 'Auto shop':\n",
        "  print('Cars are cool!')\n",
        "elif loc == 'bank':\n",
        "  print('Money is cool')\n",
        "elif loc == 'store':\n",
        "  print('welcome to the store')\n",
        "else:\n",
        "  print('I do not know much.')\n"
      ],
      "metadata": {
        "colab": {
          "base_uri": "https://localhost:8080/"
        },
        "outputId": "7e70ec44-72cb-43b1-e716-5cacdfde42a9",
        "id": "7ddbZ4fkZxaj"
      },
      "execution_count": 20,
      "outputs": [
        {
          "output_type": "stream",
          "name": "stdout",
          "text": [
            "Cars are cool!\n"
          ]
        }
      ]
    },
    {
      "cell_type": "code",
      "source": [],
      "metadata": {
        "id": "XYLdKFwUaFcg"
      },
      "execution_count": null,
      "outputs": []
    },
    {
      "cell_type": "code",
      "source": [
        "loc = \"store\"\n",
        "if loc == 'Auto shop':\n",
        "  print('Cars are cool!')\n",
        "elif loc == 'bank':\n",
        "  print('Money is cool')\n",
        "elif loc == 'store':\n",
        "  print('welcome to the store')\n",
        "else:\n",
        "  print('I do not know much.')\n"
      ],
      "metadata": {
        "colab": {
          "base_uri": "https://localhost:8080/"
        },
        "outputId": "309312a2-c0fd-4028-93bb-aa27f3fc8822",
        "id": "esEEi_zqaF91"
      },
      "execution_count": 21,
      "outputs": [
        {
          "output_type": "stream",
          "name": "stdout",
          "text": [
            "welcome to the store\n"
          ]
        }
      ]
    },
    {
      "cell_type": "code",
      "source": [
        "loc = \"Game\"\n",
        "if loc == 'Auto shop':\n",
        "  print('Cars are cool!')\n",
        "elif loc == 'bank':\n",
        "  print('Money is cool')\n",
        "elif loc == 'store':\n",
        "  print('welcome to the store')\n",
        "else:\n",
        "  print('I do not know much.')"
      ],
      "metadata": {
        "colab": {
          "base_uri": "https://localhost:8080/"
        },
        "id": "gceU5LWwaXGJ",
        "outputId": "eca6f307-e7ea-42b9-d3b5-9418b48e3f2c"
      },
      "execution_count": 22,
      "outputs": [
        {
          "output_type": "stream",
          "name": "stdout",
          "text": [
            "I do not know much.\n"
          ]
        }
      ]
    },
    {
      "cell_type": "code",
      "source": [
        "name = 'Jr'\n",
        "if name == \"Jr\":\n",
        "  print(\"hello Jr\")\n",
        "elif name == 'Simba':\n",
        "  print('Hello simba!')\n",
        "elif name == 'Hunter':\n",
        "  print('hello Hunter')\n",
        "else: print('Whats your name?')"
      ],
      "metadata": {
        "colab": {
          "base_uri": "https://localhost:8080/"
        },
        "id": "vkYKtPi5bAaA",
        "outputId": "4a8894a3-d06d-44da-d709-3dc53ce7d6d1"
      },
      "execution_count": 25,
      "outputs": [
        {
          "output_type": "stream",
          "name": "stdout",
          "text": [
            "hello Jr\n"
          ]
        }
      ]
    },
    {
      "cell_type": "code",
      "source": [
        "name = 'Hunter'\n",
        "if name == \"Jr\":\n",
        "  print(\"hello Jr\")\n",
        "elif name == 'Simba':\n",
        "  print('Hello simba!')\n",
        "elif name == 'Hunter':\n",
        "  print('hello Hunter')\n",
        "else: print('Whats your name?')"
      ],
      "metadata": {
        "colab": {
          "base_uri": "https://localhost:8080/"
        },
        "outputId": "ddc8a3a8-c203-42cd-eee0-4a67482001f9",
        "id": "0Z5zDPp3fsVW"
      },
      "execution_count": 26,
      "outputs": [
        {
          "output_type": "stream",
          "name": "stdout",
          "text": [
            "hello Hunter\n"
          ]
        }
      ]
    },
    {
      "cell_type": "code",
      "source": [
        "name = 'Masimba'\n",
        "if name == \"Jr\":\n",
        "  print(\"hello Jr\")\n",
        "elif name == 'Simba':\n",
        "  print('Hello simba!')\n",
        "elif name == 'Hunter':\n",
        "  print('hello Hunter')\n",
        "else: print('Whats your name?')"
      ],
      "metadata": {
        "colab": {
          "base_uri": "https://localhost:8080/"
        },
        "id": "l5XOcGh7f6FJ",
        "outputId": "3792362e-da8d-4c46-e10e-e0b3212cf8a7"
      },
      "execution_count": 27,
      "outputs": [
        {
          "output_type": "stream",
          "name": "stdout",
          "text": [
            "Whats your name?\n"
          ]
        }
      ]
    }
  ]
}